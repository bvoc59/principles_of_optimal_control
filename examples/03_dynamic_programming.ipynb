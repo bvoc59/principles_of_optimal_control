{
 "cells": [
  {
   "cell_type": "code",
   "execution_count": 4,
   "metadata": {},
   "outputs": [
    {
     "name": "stdout",
     "output_type": "stream",
     "text": [
      "Path: [1, 2, 3]\n",
      "Cost: 70\n",
      "Iterations:2\n"
     ]
    }
   ],
   "source": [
    "import sys\n",
    "sys.path.append(\"../packages/\")\n",
    "\n",
    "from dp.shortest_path import shortest_path \n",
    "\n",
    "test_matrix = [\n",
    "    [0, 50,  0,   0, 60],\n",
    "    [0,  0, 20,   0, 10],\n",
    "    [0,  0,  0,   0,  0],\n",
    "    [0,  0,  50,  0,  0],\n",
    "    [0,  0,  0,  40,  0]\n",
    "]\n",
    "\n",
    "result = shortest_path(test_matrix, 1, 3) \n",
    "\n",
    "print(\"Path: \"      + str(result[\"path\"])) \n",
    "print(\"Cost: \"      + str(result[\"cost\"])) \n",
    "print(\"Iterations:\" + str(result[\"iter\"]))\n",
    "\n",
    "\n"
   ]
  }
 ],
 "metadata": {
  "kernelspec": {
   "display_name": "Python 3",
   "language": "python",
   "name": "python3"
  },
  "language_info": {
   "codemirror_mode": {
    "name": "ipython",
    "version": 3
   },
   "file_extension": ".py",
   "mimetype": "text/x-python",
   "name": "python",
   "nbconvert_exporter": "python",
   "pygments_lexer": "ipython3",
   "version": "3.10.12"
  }
 },
 "nbformat": 4,
 "nbformat_minor": 2
}
