{
 "cells": [
  {
   "cell_type": "code",
   "execution_count": 69,
   "metadata": {},
   "outputs": [
    {
     "name": "stdout",
     "output_type": "stream",
     "text": [
      "Path: [1, 2, 3]\n",
      "Cost: 70\n",
      "Iterations:2\n",
      "Time of Execution [ms]: 0.20485\n"
     ]
    }
   ],
   "source": [
    "import sys\n",
    "import time\n",
    "sys.path.append(\"../packages/\")\n",
    "\n",
    "from dp.shortest_path import shortest_path \n",
    "\n",
    "test_matrix = [\n",
    "    [0, 50,  0,   0, 60],\n",
    "    [0,  0, 20,   0, 10],\n",
    "    [0,  0,  0,   0,  0],\n",
    "    [0,  0,  50,  0,  0],\n",
    "    [0,  0,  0,  40,  0]\n",
    "]\n",
    "\n",
    "start  = time.perf_counter()\n",
    "result = shortest_path(test_matrix, start=1, stop=3)\n",
    "stop   = time.perf_counter()\n",
    "\n",
    "print(\"Path: \"      + str(result[\"path\"])) \n",
    "print(\"Cost: \"      + str(result[\"cost\"])) \n",
    "print(\"Iterations:\" + str(result[\"iter\"]))\n",
    "\n",
    "print(f\"Time of Execution [ms]: {1000*(stop - start):.5f}\")"
   ]
  }
 ],
 "metadata": {
  "kernelspec": {
   "display_name": "Python 3",
   "language": "python",
   "name": "python3"
  },
  "language_info": {
   "codemirror_mode": {
    "name": "ipython",
    "version": 3
   },
   "file_extension": ".py",
   "mimetype": "text/x-python",
   "name": "python",
   "nbconvert_exporter": "python",
   "pygments_lexer": "ipython3",
   "version": "3.10.12"
  }
 },
 "nbformat": 4,
 "nbformat_minor": 2
}
